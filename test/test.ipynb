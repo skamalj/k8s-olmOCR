{
 "cells": [
  {
   "cell_type": "code",
   "execution_count": 2,
   "id": "91459817",
   "metadata": {},
   "outputs": [],
   "source": [
    "import base64\n",
    "import requests"
   ]
  },
  {
   "cell_type": "code",
   "execution_count": 4,
   "id": "ac4c2166",
   "metadata": {},
   "outputs": [],
   "source": [
    "with open(\"../olmocr_sample.pdf\", \"rb\") as f:\n",
    "    pdf_base64 = base64.b64encode(f.read()).decode(\"utf-8\")"
   ]
  },
  {
   "cell_type": "code",
   "execution_count": 11,
   "id": "2ea8ad5f",
   "metadata": {},
   "outputs": [],
   "source": [
    "url = \"http://localhost:8000/ocr\"\n",
    "payload = {\n",
    "    \"file_base64\": pdf_base64,\n",
    "    \"start_page\": 2,\n",
    "    \"end_page\": 3\n",
    "}"
   ]
  },
  {
   "cell_type": "code",
   "execution_count": 12,
   "id": "3c00830f",
   "metadata": {},
   "outputs": [],
   "source": [
    "resp = requests.post(url, json=payload)"
   ]
  },
  {
   "cell_type": "code",
   "execution_count": 15,
   "id": "c8d50008",
   "metadata": {},
   "outputs": [
    {
     "name": "stdout",
     "output_type": "stream",
     "text": [
      "{\"error\":\"The api_key client option must be set either by passing api_key to the client or by setting the OPENAI_API_KEY environment variable\"}\n"
     ]
    }
   ],
   "source": [
    "print(resp.text)"
   ]
  }
 ],
 "metadata": {
  "kernelspec": {
   "display_name": "langgraph",
   "language": "python",
   "name": "python3"
  },
  "language_info": {
   "codemirror_mode": {
    "name": "ipython",
    "version": 3
   },
   "file_extension": ".py",
   "mimetype": "text/x-python",
   "name": "python",
   "nbconvert_exporter": "python",
   "pygments_lexer": "ipython3",
   "version": "3.10.16"
  }
 },
 "nbformat": 4,
 "nbformat_minor": 5
}
