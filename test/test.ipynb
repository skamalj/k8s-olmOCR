{
 "cells": [
  {
   "cell_type": "code",
   "execution_count": 2,
   "id": "91459817",
   "metadata": {},
   "outputs": [],
   "source": [
    "import base64\n",
    "import requests"
   ]
  },
  {
   "cell_type": "code",
   "execution_count": 31,
   "id": "ac4c2166",
   "metadata": {},
   "outputs": [],
   "source": [
    "with open(\"../olmocr_sample.pdf\", \"rb\") as f:\n",
    "    pdf_base64 = base64.b64encode(f.read()).decode(\"utf-8\")"
   ]
  },
  {
   "cell_type": "code",
   "execution_count": 32,
   "id": "2ea8ad5f",
   "metadata": {},
   "outputs": [],
   "source": [
    "url = \"http://localhost:8000/ocr\"\n",
    "payload = {\n",
    "    \"file_base64\": pdf_base64,\n",
    "    \"start_page\": 1,\n",
    "    \"end_page\": 25\n",
    "}"
   ]
  },
  {
   "cell_type": "code",
   "execution_count": null,
   "id": "3c00830f",
   "metadata": {},
   "outputs": [],
   "source": [
    "resp = requests.post(url, json=payload)"
   ]
  },
  {
   "cell_type": "code",
   "execution_count": 30,
   "id": "c8d50008",
   "metadata": {},
   "outputs": [
    {
     "name": "stdout",
     "output_type": "stream",
     "text": [
      "JSON: {'ocr_results': {'1': '{\"primary_language\":\"en\",\"is_rotation_valid\":true,\"rotation_correction\":0,\"is_table\":true,\"is_diagram\":false,\"natural_text\":\"| Date       | Narration                                      | Chq/Ref.No. | Value Dt | Withdrawal Amt. | Deposit Amt. | Closing Balance |\\\\n|------------|-----------------------------------------------|-------------|----------|-----------------|--------------|-----------------|\\\\n| 10/12/22   | APBS C- HP604794 180287 1199-1521635687      | 00000002046975473 | 10/12/22 | 20.53           |              | 44,534.72       |\\\\n| 12/12/22   | CASH DEP TAPA                                  | 00000000000000000 | 12/12/22 | 10,000.00       |              | 54,534.72       |\\\\n| 01/01/23   | CREDIT INTEREST CAPITALISED                   | 00000000000000000 | 01/01/23 | 96.00           |              | 55,030.72       |\\\\n| 02/01/23   | UPI-KESHAV                                    | 00000000000000000 | 02/01/23 | 55,000.00       |              | 1,10,030.72     |\\\\n| 07/01/23   | KUMAR-KESHAVB635@OKIDFCBANK-H                 | 00000000000000000 | 07/01/23 | 6,195.00        |              | 1,16,835.72     |\\\\n| 09/01/23   | INST-ALERT CHG INC GST JUL-SEP2020-MIR19      | MIR192879967432  | 09/01/23 | 17.70           |              | 1,13,818.02     |\\\\n|            | DFC0002332-928419839667-UPI                   | 28730530794     |          |                 |              |                 |\\\\n| 10/01/23   | ACH C- PM KISAN BEN INST 3-K101923261385      | 00000000000000000 | 10/01/23 | 52,000.00       |              | 85,818.02       |\\\\n| 12/01/23   | APBS C- HP604794 203774 2310-157019952        | 00000000000000000 | 12/01/23 | 85.57           |              | 85,903.59       |\\\\n| 05/02/23   | CC 000558983XXXXX7599 AUTOPAY SI-TAD          | 00000000000000000 | 05/02/23 | 76,654.00       |              | 9,249.41        |\\\\n| 10/02/23   | CC 000558983XXXXX7599 AUTOPAY SI-TAD          | 00000000000000000 | 10/02/23 | 6,654.18        |              | 15,903.59       |\\\\n| 16/02/23   | CC '}}\n"
     ]
    }
   ],
   "source": [
    " print(\"JSON:\", resp.json())"
   ]
  }
 ],
 "metadata": {
  "kernelspec": {
   "display_name": "langgraph",
   "language": "python",
   "name": "python3"
  },
  "language_info": {
   "codemirror_mode": {
    "name": "ipython",
    "version": 3
   },
   "file_extension": ".py",
   "mimetype": "text/x-python",
   "name": "python",
   "nbconvert_exporter": "python",
   "pygments_lexer": "ipython3",
   "version": "3.10.16"
  }
 },
 "nbformat": 4,
 "nbformat_minor": 5
}
