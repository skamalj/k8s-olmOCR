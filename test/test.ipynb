{
 "cells": [
  {
   "cell_type": "code",
   "execution_count": 2,
   "id": "91459817",
   "metadata": {},
   "outputs": [],
   "source": [
    "import base64\n",
    "import requests\n",
    "import tiktoken \n",
    "import json"
   ]
  },
  {
   "cell_type": "markdown",
   "id": "219ec251",
   "metadata": {},
   "source": [
    "### Encode PDF files"
   ]
  },
  {
   "cell_type": "code",
   "execution_count": 3,
   "id": "a8a443b1",
   "metadata": {},
   "outputs": [],
   "source": [
    "files = [\"mothersday.pdf\", \"theaddress.pdf\", \"beautifulwhitehorse.pdf\"]\n",
    "\n",
    "pdf_info = {}\n",
    "\n",
    "for file_path in files:\n",
    "    with open(file_path, \"rb\") as f:\n",
    "        pdf_base64 = base64.b64encode(f.read()).decode(\"utf-8\")\n",
    "    pdf_info[file_path] = {\n",
    "        \"base64\": pdf_base64,\n",
    "        \"text_content\": None,\n",
    "        \"textcontent_num_tokens\": None\n",
    "    }\n"
   ]
  },
  {
   "cell_type": "markdown",
   "id": "60afac94",
   "metadata": {},
   "source": [
    "### Generate text using OCR"
   ]
  },
  {
   "cell_type": "code",
   "execution_count": 4,
   "id": "3c00830f",
   "metadata": {},
   "outputs": [
    {
     "name": "stdout",
     "output_type": "stream",
     "text": [
      "OCR failed for mothersday.pdf: 500\n",
      "OCR failed for theaddress.pdf: 500\n",
      "OCR failed for beautifulwhitehorse.pdf: 500\n"
     ]
    }
   ],
   "source": [
    "\n",
    "url = \"http://localhost:8000/ocr\"\n",
    "\n",
    "for file_path, info in pdf_info.items():\n",
    "    payload = {\n",
    "        \"file_base64\": info[\"base64\"],\n",
    "        \"start_page\": 1,\n",
    "        \"end_page\": 100\n",
    "    }\n",
    "    resp = requests.post(url, json=payload)\n",
    "    if resp.status_code == 200:\n",
    "        info[\"text_content\"] = resp.json().get(\"ocr_results\", \"\")\n",
    "    else:\n",
    "        info[\"text_content\"] = \"\"\n",
    "        print(f\"OCR failed for {file_path}: {resp.status_code}\")\n"
   ]
  },
  {
   "cell_type": "markdown",
   "id": "4734684a",
   "metadata": {},
   "source": [
    "### Count tokens for each pdf "
   ]
  },
  {
   "cell_type": "code",
   "execution_count": null,
   "id": "c8d50008",
   "metadata": {},
   "outputs": [],
   "source": [
    "encoding = tiktoken.encoding_for_model(\"gpt-4\")  # or your model\n",
    "\n",
    "for file_path, info in pdf_info.items():\n",
    "    if info[\"text_content\"]:\n",
    "        info[\"textcontent_num_tokens\"] = len(encoding.encode(info[\"text_content\"]))"
   ]
  },
  {
   "cell_type": "code",
   "execution_count": null,
   "id": "31f34e46",
   "metadata": {},
   "outputs": [],
   "source": [
    "import json\n",
    "\n",
    "# Save dictionary to file\n",
    "with open(\"file_contents.json\", \"w\", encoding=\"utf-8\") as f:\n",
    "    json.dump(file_contents, f, ensure_ascii=False, indent=2)"
   ]
  },
  {
   "cell_type": "code",
   "execution_count": null,
   "id": "f6626995",
   "metadata": {},
   "outputs": [],
   "source": [
    "# Load dictionary from file\n",
    "with open(\"file_contents.json\", \"r\", encoding=\"utf-8\") as f:\n",
    "    loaded_file_contents = json.load(f)\n",
    "\n",
    "loaded_file_contents"
   ]
  },
  {
   "cell_type": "markdown",
   "id": "4a97a14b",
   "metadata": {},
   "source": [
    "### Sample Questions"
   ]
  },
  {
   "cell_type": "code",
   "execution_count": 1,
   "id": "dbd81138",
   "metadata": {},
   "outputs": [],
   "source": [
    "user_questions = [\n",
    "  # The Summer of the Beautiful White Horse\n",
    "  \"Why was it difficult for Aram to believe that his cousin Mourad had stolen the white horse, even when he saw him riding it?\",\n",
    "  \"Uncle Khosrove is described as having a distinct temperament. What was his typical reaction to any problem?\",\n",
    "  \"In the Garoghlanian family, what was the relationship between flesh (physical inheritance) and spirit (temperament/qualities), and how does Mourad embody this idea?\",\n",
    "\n",
    "  # Mother’s Day\n",
    "  \"Why does Mrs Fitzgerald advise Mrs Pearson to be firm with her family?\",\n",
    "  \"How do Doris and Cyril react when they first notice the change in their mother’s attitude?\",\n",
    "  \"The play highlights gender and family dynamics in the 1950s. Do you think these issues are still relevant today? Justify briefly.\",\n",
    "\n",
    "  # The Address\n",
    "  \"Why did the narrator feel uncertain when she first visited Mrs Dorling’s house after the war?\",\n",
    "  \"What role do familiar household objects play in evoking memories for the narrator?\",\n",
    "  \"Why does the narrator finally decide to ‘forget the address’? Do you think it was the right choice?\",\n",
    "  \"Compare the pre-war and post-war circumstances of the narrator. How did her perception of belongings change with time?\"\n",
    "]\n"
   ]
  },
  {
   "cell_type": "markdown",
   "id": "f61da460",
   "metadata": {},
   "source": [
    "### Create Prompt"
   ]
  },
  {
   "cell_type": "code",
   "execution_count": 2,
   "id": "ada37b46",
   "metadata": {},
   "outputs": [
    {
     "ename": "NameError",
     "evalue": "name 'pdf_info' is not defined",
     "output_type": "error",
     "traceback": [
      "\u001b[0;31m---------------------------------------------------------------------------\u001b[0m",
      "\u001b[0;31mNameError\u001b[0m                                 Traceback (most recent call last)",
      "Cell \u001b[0;32mIn[2], line 3\u001b[0m\n\u001b[1;32m      1\u001b[0m \u001b[38;5;66;03m# Combine all OCR text into a single context\u001b[39;00m\n\u001b[1;32m      2\u001b[0m context \u001b[38;5;241m=\u001b[39m \u001b[38;5;124m\"\u001b[39m\u001b[38;5;124m\"\u001b[39m\n\u001b[0;32m----> 3\u001b[0m \u001b[38;5;28;01mfor\u001b[39;00m info \u001b[38;5;129;01min\u001b[39;00m \u001b[43mpdf_info\u001b[49m\u001b[38;5;241m.\u001b[39mvalues():\n\u001b[1;32m      4\u001b[0m     \u001b[38;5;28;01mif\u001b[39;00m info[\u001b[38;5;124m\"\u001b[39m\u001b[38;5;124mtext_content\u001b[39m\u001b[38;5;124m\"\u001b[39m]:\n\u001b[1;32m      5\u001b[0m         context \u001b[38;5;241m+\u001b[39m\u001b[38;5;241m=\u001b[39m info[\u001b[38;5;124m\"\u001b[39m\u001b[38;5;124mtext_content\u001b[39m\u001b[38;5;124m\"\u001b[39m] \u001b[38;5;241m+\u001b[39m \u001b[38;5;124m\"\u001b[39m\u001b[38;5;130;01m\\n\u001b[39;00m\u001b[38;5;130;01m\\n\u001b[39;00m\u001b[38;5;124m\"\u001b[39m\n",
      "\u001b[0;31mNameError\u001b[0m: name 'pdf_info' is not defined"
     ]
    }
   ],
   "source": [
    "\n",
    "# Combine all OCR text into a single context\n",
    "context = \"\"\n",
    "for info in pdf_info.values():\n",
    "    if info[\"text_content\"]:\n",
    "        context += info[\"text_content\"] + \"\\n\\n\"\n",
    "\n",
    "# Build a single prompt asking for dictionary-style answers\n",
    "prompt = f\"\"\"\n",
    "You are an AI assistant. Use the following context to answer the questions. \n",
    "Return your answers as a JSON dictionary where each question is a key and the answer is the value.\n",
    "\n",
    "Context:\n",
    "{context}\n",
    "\n",
    "Questions:\n",
    "{user_questions}\n",
    "\n",
    "Answer:\n",
    "\"\"\"\n",
    "\n",
    "print(prompt[:500], \"...\")  # preview first 500 chars\n"
   ]
  }
 ],
 "metadata": {
  "kernelspec": {
   "display_name": "langgraph",
   "language": "python",
   "name": "python3"
  },
  "language_info": {
   "codemirror_mode": {
    "name": "ipython",
    "version": 3
   },
   "file_extension": ".py",
   "mimetype": "text/x-python",
   "name": "python",
   "nbconvert_exporter": "python",
   "pygments_lexer": "ipython3",
   "version": "3.10.16"
  }
 },
 "nbformat": 4,
 "nbformat_minor": 5
}
