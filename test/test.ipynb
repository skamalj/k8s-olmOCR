{
 "cells": [
  {
   "cell_type": "code",
   "execution_count": 1,
   "id": "91459817",
   "metadata": {},
   "outputs": [],
   "source": [
    "import base64\n",
    "import requests\n",
    "import tiktoken "
   ]
  },
  {
   "cell_type": "markdown",
   "id": "219ec251",
   "metadata": {},
   "source": [
    "### Encode PDF files"
   ]
  },
  {
   "cell_type": "code",
   "execution_count": null,
   "id": "a8a443b1",
   "metadata": {},
   "outputs": [],
   "source": [
    "files = [\"mothersday.pdf\", \"theaddress.pdf\", \"beautifulwhitehorse.pdf\"]\n",
    "\n",
    "pdf_info = {}\n",
    "\n",
    "for file_path in files:\n",
    "    with open(file_path, \"rb\") as f:\n",
    "        pdf_base64 = base64.b64encode(f.read()).decode(\"utf-8\")\n",
    "    pdf_info[file_path] = {\n",
    "        \"base64\": pdf_base64,\n",
    "        \"text_content\": None,\n",
    "        \"textcontent_num_tokens\": None\n",
    "    }\n"
   ]
  },
  {
   "cell_type": "markdown",
   "id": "60afac94",
   "metadata": {},
   "source": [
    "### Generate text using OCR"
   ]
  },
  {
   "cell_type": "code",
   "execution_count": null,
   "id": "3c00830f",
   "metadata": {},
   "outputs": [],
   "source": [
    "\n",
    "url = \"http://localhost:8000/ocr\"\n",
    "\n",
    "for file_path, info in pdf_info.items():\n",
    "    payload = {\n",
    "        \"file_base64\": info[\"base64\"],\n",
    "        \"start_page\": 1,\n",
    "        \"end_page\": 100\n",
    "    }\n",
    "    resp = requests.post(url, json=payload)\n",
    "    if resp.status_code == 200:\n",
    "        info[\"text_content\"] = resp.json().get(\"ocr_results\", \"\")\n",
    "    else:\n",
    "        info[\"text_content\"] = \"\"\n",
    "        print(f\"OCR failed for {file_path}: {resp.status_code}\")\n"
   ]
  },
  {
   "cell_type": "markdown",
   "id": "4734684a",
   "metadata": {},
   "source": [
    "### Count tokens for each pdf "
   ]
  },
  {
   "cell_type": "code",
   "execution_count": null,
   "id": "c8d50008",
   "metadata": {},
   "outputs": [],
   "source": [
    "encoding = tiktoken.encoding_for_model(\"gpt-4\")  # or your model\n",
    "\n",
    "for file_path, info in pdf_info.items():\n",
    "    if info[\"text_content\"]:\n",
    "        info[\"textcontent_num_tokens\"] = len(encoding.encode(info[\"text_content\"]))"
   ]
  },
  {
   "cell_type": "markdown",
   "id": "4a97a14b",
   "metadata": {},
   "source": [
    "### Sample Questions"
   ]
  },
  {
   "cell_type": "code",
   "execution_count": null,
   "id": "dbd81138",
   "metadata": {},
   "outputs": [],
   "source": [
    "user_questions = [\n",
    "  # The Summer of the Beautiful White Horse\n",
    "  \"Why was it difficult for Aram to believe that his cousin Mourad had stolen the white horse, even when he saw him riding it?\",\n",
    "  \"Uncle Khosrove is described as having a distinct temperament. What was his typical reaction to any problem?\",\n",
    "  \"In the Garoghlanian family, what was the relationship between flesh (physical inheritance) and spirit (temperament/qualities), and how does Mourad embody this idea?\",\n",
    "\n",
    "  # Mother’s Day\n",
    "  \"Why does Mrs Fitzgerald advise Mrs Pearson to be firm with her family?\",\n",
    "  \"How do Doris and Cyril react when they first notice the change in their mother’s attitude?\",\n",
    "  \"The play highlights gender and family dynamics in the 1950s. Do you think these issues are still relevant today? Justify briefly.\",\n",
    "\n",
    "  # The Address\n",
    "  \"Why did the narrator feel uncertain when she first visited Mrs Dorling’s house after the war?\",\n",
    "  \"What role do familiar household objects play in evoking memories for the narrator?\",\n",
    "  \"Why does the narrator finally decide to ‘forget the address’? Do you think it was the right choice?\",\n",
    "  \"Compare the pre-war and post-war circumstances of the narrator. How did her perception of belongings change with time?\"\n",
    "]\n"
   ]
  },
  {
   "cell_type": "markdown",
   "id": "f61da460",
   "metadata": {},
   "source": [
    "### Create Prompt"
   ]
  },
  {
   "cell_type": "code",
   "execution_count": null,
   "id": "ada37b46",
   "metadata": {},
   "outputs": [],
   "source": [
    "\n",
    "# Combine all OCR text into a single context\n",
    "context = \"\"\n",
    "for info in pdf_info.values():\n",
    "    if info[\"text_content\"]:\n",
    "        context += info[\"text_content\"] + \"\\n\\n\"\n",
    "\n",
    "# Build a single prompt asking for dictionary-style answers\n",
    "prompt = f\"\"\"\n",
    "You are an AI assistant. Use the following context to answer the questions. \n",
    "Return your answers as a JSON dictionary where each question is a key and the answer is the value.\n",
    "\n",
    "Context:\n",
    "{context}\n",
    "\n",
    "Questions:\n",
    "{user_questions}\n",
    "\n",
    "Answer:\n",
    "\"\"\"\n",
    "\n",
    "print(prompt[:500], \"...\")  # preview first 500 chars\n"
   ]
  }
 ],
 "metadata": {
  "kernelspec": {
   "display_name": "langgraph",
   "language": "python",
   "name": "python3"
  },
  "language_info": {
   "codemirror_mode": {
    "name": "ipython",
    "version": 3
   },
   "file_extension": ".py",
   "mimetype": "text/x-python",
   "name": "python",
   "nbconvert_exporter": "python",
   "pygments_lexer": "ipython3",
   "version": "3.10.16"
  }
 },
 "nbformat": 4,
 "nbformat_minor": 5
}
